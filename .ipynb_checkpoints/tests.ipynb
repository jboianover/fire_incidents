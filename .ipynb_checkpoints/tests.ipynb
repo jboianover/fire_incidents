{
 "metadata": {
  "language_info": {
   "codemirror_mode": {
    "name": "ipython",
    "version": 3
   },
   "file_extension": ".py",
   "mimetype": "text/x-python",
   "name": "python",
   "nbconvert_exporter": "python",
   "pygments_lexer": "ipython3",
   "version": "3.8.3-final"
  },
  "orig_nbformat": 2,
  "kernelspec": {
   "name": "python38364bitafc563adc08b45599aa826ac5a190a64",
   "display_name": "Python 3.8.3 64-bit"
  }
 },
 "nbformat": 4,
 "nbformat_minor": 2,
 "cells": [
  {
   "cell_type": "code",
   "execution_count": null,
   "metadata": {},
   "outputs": [],
   "source": [
    "import os\n",
    "from pathlib import Path\n",
    "from configparser import ConfigParser\n",
    "import ast\n",
    "\n",
    "\n",
    "def get_param(section, key):\n",
    "    #use this for jupyter notebook\n",
    "    config_file = os.path.join(r'C:\\GitHub\\fire_incidents', 'config.ini')\n",
    "    \n",
    "    #use this for .py script execution\n",
    "    #config_file = os.path.join(Path(os.path.dirname(os.path.abspath(__file__))), 'config.ini')\n",
    "\n",
    "    config = ConfigParser()\n",
    "    config.read(config_file)\n",
    "\n",
    "    return config[section][key]\n",
    "    \n",
    "def get_dictionary(filename):\n",
    "    \n",
    "    #use this for jupyter notebook\n",
    "    config_file = os.path.join(r'C:\\GitHub\\fire_incidents', filename)\n",
    "    \n",
    "    #use this for .py script execution\n",
    "    #dictionary_file = os.path.join(Path(os.path.dirname(os.path.abspath(__file__))), filename)\n",
    "    \n",
    "    #file = open(r'C:\\GitHub\\fire_incidents\\default_dimensions.txt', \"r\")\n",
    "    file = open(r'C:\\GitHub\\fire_incidents\\compound_dimensions.txt', \"r\")\n",
    "    #file = open(dictionary_file, \"r\")\n",
    "\n",
    "    contents = file.read()\n",
    "    dictionary = ast.literal_eval(contents)\n",
    "\n",
    "    return(dictionary)\n"
   ]
  },
  {
   "cell_type": "code",
   "execution_count": null,
   "metadata": {},
   "outputs": [],
   "source": [
    "from sodapy import Socrata\n",
    "import pandas as pd\n",
    "import numpy as np"
   ]
  },
  {
   "cell_type": "code",
   "execution_count": null,
   "metadata": {
    "tags": []
   },
   "outputs": [],
   "source": [
    "client_name = get_param('API','client_name')\n",
    "file_name = get_param('API','file_name')\n",
    "limit_size = get_param('API','limit_size')\n",
    "#limit_size = 2000\n",
    "\n",
    "print(client_name)\n",
    "print(file_name)\n",
    "print(limit_size)"
   ]
  },
  {
   "cell_type": "code",
   "execution_count": null,
   "metadata": {
    "tags": []
   },
   "outputs": [],
   "source": [
    "client = Socrata(client_name, None)\n",
    "results = client.get(file_name, limit=limit_size)"
   ]
  },
  {
   "cell_type": "code",
   "execution_count": null,
   "metadata": {},
   "outputs": [],
   "source": [
    "df = pd.DataFrame.from_records(results)\n",
    "\n",
    "df.columns = df.columns.str.replace(' ', '_')\n",
    "df.columns = df.columns.str.replace('sytem', 'system')\n",
    "source_data = df"
   ]
  },
  {
   "cell_type": "code",
   "execution_count": null,
   "metadata": {},
   "outputs": [],
   "source": [
    "source_data"
   ]
  },
  {
   "cell_type": "code",
   "execution_count": null,
   "metadata": {},
   "outputs": [],
   "source": [
    "import mysql.connector\n",
    "from sqlalchemy import create_engine\n",
    "\n",
    "def create_mysql_connection():\n",
    "    \n",
    "    #Recovering DB parameters\n",
    "    hostname = get_param('DB', 'mysql_hostname')\n",
    "    db_name = get_param('DB', 'db_name')\n",
    "    user_name= get_param('DB', 'user_name')\n",
    "    pwd = get_param('DB', 'pwd')\n",
    "\n",
    "    #Building connection_string\n",
    "    db_connection_str = 'mysql+mysqlconnector://'+user_name+':'+pwd+'@'+hostname+'/'+db_name\n",
    "    db_connection = create_engine(db_connection_str)\n",
    "    return db_connection\n",
    "\n",
    "def read_table_to_df(dim):\n",
    "    db_connection = create_mysql_connection\n",
    "\n",
    "    return pd.read_sql('SELECT Id, '+ dim + ' FROM '+ dim, con=db_connection)\n",
    "\n",
    "###########################################################################################\n",
    "\n",
    "def load_table(table_name, df, table_action):\n",
    "    db_connection = create_mysql_connection()\n",
    "    df.to_sql(name=table_name, con=db_connection, index=False, if_exists=table_action)\n",
    "\n",
    "    return 0"
   ]
  },
  {
   "cell_type": "code",
   "execution_count": null,
   "metadata": {},
   "outputs": [],
   "source": [
    "def dim_by_column(source_data, dim_name, column_name, base_id):\n",
    "    df=source_data\n",
    "    clean_df1 = df[column_name].drop_duplicates(inplace=False).sort_values().reset_index(drop=True).dropna().to_frame()\n",
    "    clean_df1['Id'] = clean_df1.index + base_id + 1\n",
    "    dim_df = clean_df1[['Id',column_name]]\n",
    "    final_df = dim_df.rename(columns = {column_name: dim_name + '_desc'}, inplace = False)\n",
    "    return final_df    \n",
    "    "
   ]
  },
  {
   "cell_type": "code",
   "execution_count": null,
   "metadata": {},
   "outputs": [],
   "source": [
    "dim_file = get_param('DIM','default')\n",
    "dim_file"
   ]
  },
  {
   "cell_type": "code",
   "execution_count": null,
   "metadata": {},
   "outputs": [],
   "source": [
    "default_dim = get_dictionary(dim_file)\n",
    "\n",
    "created_dims = []"
   ]
  },
  {
   "cell_type": "code",
   "execution_count": null,
   "metadata": {},
   "outputs": [],
   "source": [
    "default_dim"
   ]
  },
  {
   "cell_type": "code",
   "execution_count": null,
   "metadata": {
    "tags": []
   },
   "outputs": [],
   "source": [
    "for key in default_dim:\n",
    "    if default_dim[key] in source_data:\n",
    "        \n",
    "        df_dimensionado = dim_by_column(source_data, key, default_dim[key], 0)\n",
    "        df_clean = df_dimensionado.dropna()\n",
    "        load_table('dim_' + key, df_clean, 'replace')\n",
    "        created_dims.append(key)\n",
    "    else:\n",
    "        raise Exception(\"ERROR: The column \"+ default_dim[key] + \" does not exist - Verify and correct \" + dim_file)"
   ]
  },
  {
   "cell_type": "code",
   "execution_count": null,
   "metadata": {},
   "outputs": [],
   "source": [
    "copy = source_data\n",
    "copy"
   ]
  },
  {
   "cell_type": "code",
   "execution_count": null,
   "metadata": {
    "tags": []
   },
   "outputs": [],
   "source": [
    "if len(default_dim) != len(created_dims):\n",
    "    raise Exception(\"ERROR: there were some dimensions that couldn't been created - \\n \\\n",
    "        Dimension List: \"+ ','.join(list(default_dim.keys()))+ \"\\nCreated Dimensions\" \\\n",
    "            + ','.join(created_dims))\n",
    "else:\n",
    "    print(created_dims)"
   ]
  },
  {
   "cell_type": "code",
   "execution_count": null,
   "metadata": {},
   "outputs": [],
   "source": [
    "source_data"
   ]
  },
  {
   "cell_type": "code",
   "execution_count": null,
   "metadata": {},
   "outputs": [],
   "source": [
    "####TEST COMPOUND DIMENSIONS"
   ]
  },
  {
   "cell_type": "code",
   "execution_count": 802,
   "metadata": {},
   "outputs": [],
   "source": [
    "dim_file = get_param('DIM','compound')\n",
    "compound_dim = get_dictionary(dim_file)\n",
    "\n",
    "created_dims = []"
   ]
  },
  {
   "cell_type": "code",
   "execution_count": 803,
   "metadata": {},
   "outputs": [
    {
     "output_type": "execute_result",
     "data": {
      "text/plain": "{'action_taken': ['action_taken_other',\n  'action_taken_secondary',\n  'action_taken_primary'],\n 'ignition_factor': ['ignition_factor_secondary', 'ignition_factor_primary']}"
     },
     "metadata": {},
     "execution_count": 803
    }
   ],
   "source": [
    "compound_dim"
   ]
  },
  {
   "cell_type": "code",
   "execution_count": 804,
   "metadata": {
    "tags": []
   },
   "outputs": [
    {
     "output_type": "stream",
     "name": "stdout",
     "text": "Todo salio piola\n"
    }
   ],
   "source": [
    "for key in compound_dim:\n",
    "    i = 1\n",
    "    \n",
    "    for column_name in compound_dim[key]:\n",
    "        if column_name in source_data:\n",
    "            if i == 1:\n",
    "                df_acum = dim_by_column(source_data, key, column_name, 0)\n",
    "                \n",
    "                \n",
    "            else:\n",
    "                base_id = len(df_acum.index)\n",
    "                df_acum = pd.concat([df_acum, dim_by_column(source_data, key, column_name, base_id)], ignore_index=True)\n",
    "               \n",
    "               \n",
    "                new_column_name = key + '_desc'\n",
    "                df_acum = df_acum[new_column_name].drop_duplicates(inplace=False).sort_values().reset_index(drop=True).dropna().to_frame()\n",
    "        \n",
    "            i += 1\n",
    "        else:\n",
    "            raise Exception(\"ERROR: The column \"+ column_name + \" does not exist - Verify and correct \" + dim_file)\n",
    "    clean_df = df_acum.dropna()\n",
    "    clean_df['Id'] = clean_df.index + 1\n",
    "    column_list = ['Id', new_column_name]\n",
    "    final_df = clean_df[column_list]\n",
    "    load_table('dim_' + key, final_df, 'replace')\n",
    "    created_dims.append(key)\n",
    "\n",
    "if len(compound_dim) != len(created_dims):\n",
    "    raise Exception(\"ERROR: there were some dimensions that couldn't been created - \\n \\\n",
    "        Dimension List: \"+ ','.join(list(compound_dim.keys()))+ \"\\nCreated Dimensions\" \\\n",
    "            + ','.join(created_dims))\n",
    "    \n",
    "else:\n",
    "    print(\"Todo salio piola\")"
   ]
  },
  {
   "cell_type": "code",
   "execution_count": null,
   "metadata": {},
   "outputs": [],
   "source": [
    "###FIN TEST COMPOUND DIMENSIONS"
   ]
  }
 ]
}